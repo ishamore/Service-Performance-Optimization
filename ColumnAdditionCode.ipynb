{
 "cells": [
  {
   "cell_type": "code",
   "execution_count": 6,
   "id": "35109783",
   "metadata": {},
   "outputs": [
    {
     "name": "stdout",
     "output_type": "stream",
     "text": [
      "File saved as customer_support_tickets_with_complaint_date.csv\n"
     ]
    }
   ],
   "source": [
    "import pandas as pd\n",
    "import numpy as np\n",
    "from datetime import timedelta\n",
    "\n",
    "# Load your CSV file\n",
    "df = pd.read_csv('customer_support_tickets.csv')\n",
    "\n",
    "# Parse datetime columns\n",
    "df['First Response Time'] = pd.to_datetime(df['First Response Time'], errors='coerce')\n",
    "df['Time to Resolution'] = pd.to_datetime(df['Time to Resolution'], errors='coerce')\n",
    "\n",
    "def make_complaint_date(row):\n",
    "    # Find the earliest event time\n",
    "    times = [row['First Response Time'], row['Time to Resolution']]\n",
    "    times = [t for t in times if pd.notnull(t)]\n",
    "    if not times:\n",
    "        return \"\"\n",
    "    earliest = min(times)\n",
    "    # Set a maximum lookback (up to 7 days before the earliest event)\n",
    "    max_hours = min(720, (earliest - pd.Timestamp('2020-01-01')).total_seconds() / 3600)\n",
    "    if max_hours < 1:\n",
    "        delta_hours = 1\n",
    "    else:\n",
    "        # 50% chance: 1–6 hours; 50% chance: 24, 36, 48, 72, 96, 120, 144, 168 hours\n",
    "        if np.random.rand() < 0.5:\n",
    "            delta_hours = np.random.uniform(1, 6)\n",
    "        else:\n",
    "            delta_hours = int(np.random.choice([24, 36, 48, 72, 96, 120, 144, 168, 720]))\n",
    "        delta_hours = min(delta_hours, max_hours)\n",
    "    # Randomize minutes and seconds for further variation\n",
    "    random_minutes = np.random.randint(0, 60)\n",
    "    random_seconds = np.random.randint(0, 60)\n",
    "    complaint_dt = earliest - timedelta(hours=delta_hours, minutes=random_minutes, seconds=random_seconds)\n",
    "    # Make sure the complaint time is strictly before the earliest event\n",
    "    if complaint_dt >= earliest:\n",
    "        complaint_dt = earliest - timedelta(seconds=1)\n",
    "    return complaint_dt.strftime(\"%Y-%m-%d %H:%M:%S\")\n",
    "\n",
    "# Apply function to create new column\n",
    "df['Complaint Date'] = df.apply(make_complaint_date, axis=1)\n",
    "\n",
    "# Save updated CSV\n",
    "df.to_csv('customer_support_tickets_with_complaint_date.csv', index=False)\n",
    "\n",
    "print(\"File saved as customer_support_tickets_with_complaint_date.csv\")\n"
   ]
  },
  {
   "cell_type": "code",
   "execution_count": null,
   "id": "cd23844e",
   "metadata": {},
   "outputs": [],
   "source": []
  }
 ],
 "metadata": {
  "kernelspec": {
   "display_name": "Python 3",
   "language": "python",
   "name": "python3"
  },
  "language_info": {
   "codemirror_mode": {
    "name": "ipython",
    "version": 3
   },
   "file_extension": ".py",
   "mimetype": "text/x-python",
   "name": "python",
   "nbconvert_exporter": "python",
   "pygments_lexer": "ipython3",
   "version": "3.8.8"
  }
 },
 "nbformat": 4,
 "nbformat_minor": 5
}

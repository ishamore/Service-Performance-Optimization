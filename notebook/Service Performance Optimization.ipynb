{
 "cells": [
  {
   "cell_type": "code",
   "execution_count": 95,
   "id": "dc6928d9",
   "metadata": {},
   "outputs": [],
   "source": [
    "import pandas as pd \n",
    "import numpy as np\n",
    "import matplotlib.pyplot as plt\n",
    "import seaborn as sns"
   ]
  },
  {
   "cell_type": "code",
   "execution_count": 96,
   "id": "57af4299",
   "metadata": {},
   "outputs": [
    {
     "data": {
      "text/html": [
       "<div>\n",
       "<style scoped>\n",
       "    .dataframe tbody tr th:only-of-type {\n",
       "        vertical-align: middle;\n",
       "    }\n",
       "\n",
       "    .dataframe tbody tr th {\n",
       "        vertical-align: top;\n",
       "    }\n",
       "\n",
       "    .dataframe thead th {\n",
       "        text-align: right;\n",
       "    }\n",
       "</style>\n",
       "<table border=\"1\" class=\"dataframe\">\n",
       "  <thead>\n",
       "    <tr style=\"text-align: right;\">\n",
       "      <th></th>\n",
       "      <th>Ticket ID</th>\n",
       "      <th>Customer Name</th>\n",
       "      <th>Customer Email</th>\n",
       "      <th>Customer Age</th>\n",
       "      <th>Customer Gender</th>\n",
       "      <th>Product Purchased</th>\n",
       "      <th>Date of Purchase</th>\n",
       "      <th>Ticket Type</th>\n",
       "      <th>Ticket Subject</th>\n",
       "      <th>Ticket Description</th>\n",
       "      <th>Ticket Status</th>\n",
       "      <th>Resolution</th>\n",
       "      <th>Ticket Priority</th>\n",
       "      <th>Ticket Channel</th>\n",
       "      <th>First Response Time</th>\n",
       "      <th>Time to Resolution</th>\n",
       "      <th>Customer Satisfaction Rating</th>\n",
       "      <th>Complaint Date</th>\n",
       "    </tr>\n",
       "  </thead>\n",
       "  <tbody>\n",
       "    <tr>\n",
       "      <th>0</th>\n",
       "      <td>1</td>\n",
       "      <td>Marisa Obrien</td>\n",
       "      <td>carrollallison@example.com</td>\n",
       "      <td>32</td>\n",
       "      <td>Other</td>\n",
       "      <td>GoPro Hero</td>\n",
       "      <td>2021-03-22</td>\n",
       "      <td>Technical issue</td>\n",
       "      <td>Product setup</td>\n",
       "      <td>I'm having an issue with the {product_purchase...</td>\n",
       "      <td>Pending Customer Response</td>\n",
       "      <td>NaN</td>\n",
       "      <td>Critical</td>\n",
       "      <td>Social media</td>\n",
       "      <td>2023-06-01 12:15:36</td>\n",
       "      <td>NaN</td>\n",
       "      <td>NaN</td>\n",
       "      <td>2023-06-01 09:01:23</td>\n",
       "    </tr>\n",
       "    <tr>\n",
       "      <th>1</th>\n",
       "      <td>2</td>\n",
       "      <td>Jessica Rios</td>\n",
       "      <td>clarkeashley@example.com</td>\n",
       "      <td>42</td>\n",
       "      <td>Female</td>\n",
       "      <td>LG Smart TV</td>\n",
       "      <td>2021-05-22</td>\n",
       "      <td>Technical issue</td>\n",
       "      <td>Peripheral compatibility</td>\n",
       "      <td>I'm having an issue with the {product_purchase...</td>\n",
       "      <td>Pending Customer Response</td>\n",
       "      <td>NaN</td>\n",
       "      <td>Critical</td>\n",
       "      <td>Chat</td>\n",
       "      <td>2023-06-01 16:45:38</td>\n",
       "      <td>NaN</td>\n",
       "      <td>NaN</td>\n",
       "      <td>2023-06-01 12:36:22</td>\n",
       "    </tr>\n",
       "    <tr>\n",
       "      <th>2</th>\n",
       "      <td>3</td>\n",
       "      <td>Christopher Robbins</td>\n",
       "      <td>gonzalestracy@example.com</td>\n",
       "      <td>48</td>\n",
       "      <td>Other</td>\n",
       "      <td>Dell XPS</td>\n",
       "      <td>2020-07-14</td>\n",
       "      <td>Technical issue</td>\n",
       "      <td>Network problem</td>\n",
       "      <td>I'm facing a problem with my {product_purchase...</td>\n",
       "      <td>Closed</td>\n",
       "      <td>Case maybe show recently my computer follow.</td>\n",
       "      <td>Low</td>\n",
       "      <td>Social media</td>\n",
       "      <td>2023-06-01 11:14:38</td>\n",
       "      <td>2023-06-01 18:05:38</td>\n",
       "      <td>3.0</td>\n",
       "      <td>2023-05-27 10:47:12</td>\n",
       "    </tr>\n",
       "    <tr>\n",
       "      <th>3</th>\n",
       "      <td>4</td>\n",
       "      <td>Christina Dillon</td>\n",
       "      <td>bradleyolson@example.org</td>\n",
       "      <td>27</td>\n",
       "      <td>Female</td>\n",
       "      <td>Microsoft Office</td>\n",
       "      <td>2020-11-13</td>\n",
       "      <td>Billing inquiry</td>\n",
       "      <td>Account access</td>\n",
       "      <td>I'm having an issue with the {product_purchase...</td>\n",
       "      <td>Closed</td>\n",
       "      <td>Try capital clearly never color toward story.</td>\n",
       "      <td>Low</td>\n",
       "      <td>Social media</td>\n",
       "      <td>2023-06-01 07:29:40</td>\n",
       "      <td>2023-06-01 01:57:40</td>\n",
       "      <td>3.0</td>\n",
       "      <td>2023-05-31 20:24:01</td>\n",
       "    </tr>\n",
       "    <tr>\n",
       "      <th>4</th>\n",
       "      <td>5</td>\n",
       "      <td>Alexander Carroll</td>\n",
       "      <td>bradleymark@example.com</td>\n",
       "      <td>67</td>\n",
       "      <td>Female</td>\n",
       "      <td>Autodesk AutoCAD</td>\n",
       "      <td>2020-02-04</td>\n",
       "      <td>Billing inquiry</td>\n",
       "      <td>Data loss</td>\n",
       "      <td>I'm having an issue with the {product_purchase...</td>\n",
       "      <td>Closed</td>\n",
       "      <td>West decision evidence bit.</td>\n",
       "      <td>Low</td>\n",
       "      <td>Email</td>\n",
       "      <td>2023-06-01 00:12:42</td>\n",
       "      <td>2023-06-01 19:53:42</td>\n",
       "      <td>1.0</td>\n",
       "      <td>2023-05-25 23:32:14</td>\n",
       "    </tr>\n",
       "  </tbody>\n",
       "</table>\n",
       "</div>"
      ],
      "text/plain": [
       "   Ticket ID        Customer Name              Customer Email  Customer Age  \\\n",
       "0          1        Marisa Obrien  carrollallison@example.com            32   \n",
       "1          2         Jessica Rios    clarkeashley@example.com            42   \n",
       "2          3  Christopher Robbins   gonzalestracy@example.com            48   \n",
       "3          4     Christina Dillon    bradleyolson@example.org            27   \n",
       "4          5    Alexander Carroll     bradleymark@example.com            67   \n",
       "\n",
       "  Customer Gender Product Purchased Date of Purchase      Ticket Type  \\\n",
       "0           Other        GoPro Hero       2021-03-22  Technical issue   \n",
       "1          Female       LG Smart TV       2021-05-22  Technical issue   \n",
       "2           Other          Dell XPS       2020-07-14  Technical issue   \n",
       "3          Female  Microsoft Office       2020-11-13  Billing inquiry   \n",
       "4          Female  Autodesk AutoCAD       2020-02-04  Billing inquiry   \n",
       "\n",
       "             Ticket Subject  \\\n",
       "0             Product setup   \n",
       "1  Peripheral compatibility   \n",
       "2           Network problem   \n",
       "3            Account access   \n",
       "4                 Data loss   \n",
       "\n",
       "                                  Ticket Description  \\\n",
       "0  I'm having an issue with the {product_purchase...   \n",
       "1  I'm having an issue with the {product_purchase...   \n",
       "2  I'm facing a problem with my {product_purchase...   \n",
       "3  I'm having an issue with the {product_purchase...   \n",
       "4  I'm having an issue with the {product_purchase...   \n",
       "\n",
       "               Ticket Status                                     Resolution  \\\n",
       "0  Pending Customer Response                                            NaN   \n",
       "1  Pending Customer Response                                            NaN   \n",
       "2                     Closed   Case maybe show recently my computer follow.   \n",
       "3                     Closed  Try capital clearly never color toward story.   \n",
       "4                     Closed                    West decision evidence bit.   \n",
       "\n",
       "  Ticket Priority Ticket Channel  First Response Time   Time to Resolution  \\\n",
       "0        Critical   Social media  2023-06-01 12:15:36                  NaN   \n",
       "1        Critical           Chat  2023-06-01 16:45:38                  NaN   \n",
       "2             Low   Social media  2023-06-01 11:14:38  2023-06-01 18:05:38   \n",
       "3             Low   Social media  2023-06-01 07:29:40  2023-06-01 01:57:40   \n",
       "4             Low          Email  2023-06-01 00:12:42  2023-06-01 19:53:42   \n",
       "\n",
       "   Customer Satisfaction Rating       Complaint Date  \n",
       "0                           NaN  2023-06-01 09:01:23  \n",
       "1                           NaN  2023-06-01 12:36:22  \n",
       "2                           3.0  2023-05-27 10:47:12  \n",
       "3                           3.0  2023-05-31 20:24:01  \n",
       "4                           1.0  2023-05-25 23:32:14  "
      ]
     },
     "execution_count": 96,
     "metadata": {},
     "output_type": "execute_result"
    }
   ],
   "source": [
    "# Load Dataset \n",
    "df = pd.read_csv(\"customer_support_tickets_with_complaint_date.csv\")\n",
    "\n",
    "# Display basic info and first few rows\n",
    "df.head()"
   ]
  },
  {
   "cell_type": "code",
   "execution_count": 97,
   "id": "f62d1101",
   "metadata": {},
   "outputs": [
    {
     "name": "stdout",
     "output_type": "stream",
     "text": [
      "<class 'pandas.core.frame.DataFrame'>\n",
      "RangeIndex: 8469 entries, 0 to 8468\n",
      "Data columns (total 18 columns):\n",
      " #   Column                        Non-Null Count  Dtype  \n",
      "---  ------                        --------------  -----  \n",
      " 0   Ticket ID                     8469 non-null   int64  \n",
      " 1   Customer Name                 8469 non-null   object \n",
      " 2   Customer Email                8469 non-null   object \n",
      " 3   Customer Age                  8469 non-null   int64  \n",
      " 4   Customer Gender               8469 non-null   object \n",
      " 5   Product Purchased             8469 non-null   object \n",
      " 6   Date of Purchase              8469 non-null   object \n",
      " 7   Ticket Type                   8469 non-null   object \n",
      " 8   Ticket Subject                8469 non-null   object \n",
      " 9   Ticket Description            8469 non-null   object \n",
      " 10  Ticket Status                 8469 non-null   object \n",
      " 11  Resolution                    2769 non-null   object \n",
      " 12  Ticket Priority               8469 non-null   object \n",
      " 13  Ticket Channel                8469 non-null   object \n",
      " 14  First Response Time           5650 non-null   object \n",
      " 15  Time to Resolution            2769 non-null   object \n",
      " 16  Customer Satisfaction Rating  2769 non-null   float64\n",
      " 17  Complaint Date                5650 non-null   object \n",
      "dtypes: float64(1), int64(2), object(15)\n",
      "memory usage: 1.2+ MB\n"
     ]
    },
    {
     "data": {
      "text/plain": [
       "Ticket ID                          0\n",
       "Customer Name                      0\n",
       "Customer Email                     0\n",
       "Customer Age                       0\n",
       "Customer Gender                    0\n",
       "Product Purchased                  0\n",
       "Date of Purchase                   0\n",
       "Ticket Type                        0\n",
       "Ticket Subject                     0\n",
       "Ticket Description                 0\n",
       "Ticket Status                      0\n",
       "Resolution                      5700\n",
       "Ticket Priority                    0\n",
       "Ticket Channel                     0\n",
       "First Response Time             2819\n",
       "Time to Resolution              5700\n",
       "Customer Satisfaction Rating    5700\n",
       "Complaint Date                  2819\n",
       "dtype: int64"
      ]
     },
     "execution_count": 97,
     "metadata": {},
     "output_type": "execute_result"
    }
   ],
   "source": [
    "# Check structure and missing values\n",
    "df.info()\n",
    "df.isnull().sum()"
   ]
  },
  {
   "cell_type": "markdown",
   "id": "48ea624f",
   "metadata": {},
   "source": [
    "When the resolution column is null, it indicates that the ticket is still open. In such cases, the time_to_resolution is also null because this metric only applies once the ticket has been resolved by an agent. Similarly, the satisfaction_rate is empty since users can only provide a rating after their issue has been resolved. We'll skip analyzing these columns for now.\n",
    "\n",
    "Let's move on to the first_response_time column. This field represents the timestamp of the agent’s initial response to the ticket. If the value is null, it means the ticket has not yet been addressed by any agent.\n"
   ]
  },
  {
   "cell_type": "code",
   "execution_count": 98,
   "id": "dc2d07df",
   "metadata": {},
   "outputs": [],
   "source": [
    "df.columns = df.columns.str.strip()  # Clean column names"
   ]
  },
  {
   "cell_type": "code",
   "execution_count": 99,
   "id": "847a0075",
   "metadata": {},
   "outputs": [],
   "source": [
    "# Clean string columns\n",
    "df['Ticket Status'] = df['Ticket Status'].str.strip().str.lower()\n",
    "df['Ticket Priority'] = df['Ticket Priority'].str.strip().str.title()\n",
    "df['Ticket Channel'] = df['Ticket Channel'].str.strip().str.title()"
   ]
  },
  {
   "cell_type": "code",
   "execution_count": 100,
   "id": "8bf6d843",
   "metadata": {},
   "outputs": [],
   "source": [
    "df_resolved = df[df['Ticket Status'] == 'closed'].copy()"
   ]
  },
  {
   "cell_type": "code",
   "execution_count": 101,
   "id": "9f98f9d7",
   "metadata": {},
   "outputs": [],
   "source": [
    "# STEP 3: Convert relevant columns to datetime\n",
    "df['Date of Purchase'] = pd.to_datetime(df['Date of Purchase'], errors='coerce')\n",
    "df['Complaint Date'] = pd.to_datetime(df['Complaint Date'], errors='coerce')\n",
    "df['First Response Time'] = pd.to_datetime(df['First Response Time'], errors='coerce')\n",
    "df['Time to Resolution'] = pd.to_datetime(df['Time to Resolution'], errors='coerce')\n",
    "\n"
   ]
  },
  {
   "cell_type": "code",
   "execution_count": 102,
   "id": "b777c9a1",
   "metadata": {},
   "outputs": [],
   "source": [
    "# STEP 4: Create time delta metrics (in hours)\n",
    "df['Response Delay (hrs)'] = (df['First Response Time'] - df['Complaint Date']).dt.total_seconds() / 3600\n",
    "df['Resolution Delay (hrs)'] = (df['Time to Resolution'] - df['Complaint Date']).dt.total_seconds() / 3600\n",
    "\n"
   ]
  },
  {
   "cell_type": "code",
   "execution_count": 103,
   "id": "60da3160",
   "metadata": {},
   "outputs": [],
   "source": [
    "# Subsets for KPIs\n",
    "df_response = df.dropna(subset=['Response Delay (hrs)'])\n",
    "df_resolution = df.dropna(subset=['Resolution Delay (hrs)'])\n",
    "df_satisfaction = df.dropna(subset=['Customer Satisfaction Rating'])"
   ]
  },
  {
   "cell_type": "code",
   "execution_count": 104,
   "id": "b3bb089d",
   "metadata": {},
   "outputs": [
    {
     "name": "stdout",
     "output_type": "stream",
     "text": [
      "Total Tickets: 8469\n",
      "Resolved Tickets: 2769\n",
      "Resolution Rate (%): 32.7\n",
      "Tickets with Response Time: 5650\n",
      "Avg. First Response Time (hrs): 82.16\n",
      "Tickets with Resolution Time: 2769\n",
      "Avg. Time to Resolution (hrs): 87.44\n",
      "Tickets with Satisfaction Rating: 2769\n",
      "Avg. Customer Satisfaction: 2.99\n"
     ]
    }
   ],
   "source": [
    "# KPIs\n",
    "kpis = {\n",
    "    \"Total Tickets\": len(df),\n",
    "    \"Resolved Tickets\": df['Ticket Status'].str.lower().eq('closed').sum(),\n",
    "    \"Resolution Rate (%)\": round(df['Ticket Status'].str.lower().eq('closed').mean() * 100, 2),\n",
    "    \"Tickets with Response Time\": len(df_response),\n",
    "    \"Avg. First Response Time (hrs)\": round(df_response['Response Delay (hrs)'].mean(), 2),\n",
    "    \"Tickets with Resolution Time\": len(df_resolution),\n",
    "    \"Avg. Time to Resolution (hrs)\": round(df_resolution['Resolution Delay (hrs)'].mean(), 2),\n",
    "    \"Tickets with Satisfaction Rating\": len(df_satisfaction),\n",
    "    \"Avg. Customer Satisfaction\": round(df_satisfaction['Customer Satisfaction Rating'].mean(), 2)\n",
    "}\n",
    "\n",
    "# Display KPIs\n",
    "for k, v in kpis.items():\n",
    "    print(f\"{k}: {v}\")"
   ]
  },
  {
   "cell_type": "code",
   "execution_count": 105,
   "id": "d3e99224",
   "metadata": {},
   "outputs": [],
   "source": [
    "# Feature Engineering Continuation\n",
    "\n",
    "# 1. Age Grouping\n",
    "age_bins = [0, 25, 40, 60, 100]\n",
    "age_labels = ['<25', '25-40', '40-60', '60+']\n",
    "df['Customer Age Group'] = pd.cut(df['Customer Age'], bins=age_bins, labels=age_labels, right=False)"
   ]
  },
  {
   "cell_type": "code",
   "execution_count": 106,
   "id": "a3ec7f82",
   "metadata": {},
   "outputs": [],
   "source": [
    "# 2. Satisfaction Bucketing\n",
    "satisfaction_bins = [0, 2, 4, 5]\n",
    "satisfaction_labels = ['Low', 'Medium', 'High']\n",
    "df['Satisfaction Category'] = pd.cut(df['Customer Satisfaction Rating'], bins=satisfaction_bins, labels=satisfaction_labels, right=True)"
   ]
  },
  {
   "cell_type": "code",
   "execution_count": 107,
   "id": "2624a601",
   "metadata": {},
   "outputs": [],
   "source": [
    "# 3. SLA Breach Indicator (Assuming SLA: respond within 24h)\n",
    "df['SLA Breached'] = df['Response Delay (hrs)'] > 24\n",
    "\n",
    "# SLA thresholds\n",
    "SLA_RESPONSE_HOURS = 24\n",
    "SLA_RESOLUTION_HOURS = 72\n",
    "\n",
    "# Boolean SLA breach columns\n",
    "df['SLA Breached - Response'] = df['Response Delay (hrs)'] > SLA_RESPONSE_HOURS\n",
    "df['SLA Breached - Resolution'] = df['Resolution Delay (hrs)'] > SLA_RESOLUTION_HOURS\n"
   ]
  },
  {
   "cell_type": "code",
   "execution_count": 108,
   "id": "21242888",
   "metadata": {},
   "outputs": [],
   "source": [
    "# 4. Time of Week / Weekend Analysis\n",
    "df['Complaint Date'] = pd.to_datetime(df['Complaint Date'], errors='coerce')\n",
    "df['Ticket Opened Day'] = df['Complaint Date'].dt.day_name()\n",
    "df['Ticket Opened Month'] = df['Complaint Date'].dt.month_name()\n",
    "df['Is Weekend'] = df['Complaint Date'].dt.dayofweek >= 5"
   ]
  },
  {
   "cell_type": "code",
   "execution_count": 109,
   "id": "fbc41077",
   "metadata": {},
   "outputs": [],
   "source": [
    "# 5. Resolution Time Buckets\n",
    "res_time_bins = [0, 12, 24, 48, 1e6]\n",
    "res_time_labels = ['<12h', '12-24h', '24-48h', '>48h']\n",
    "df['Resolution Time Category'] = pd.cut(df['Resolution Delay (hrs)'], bins=res_time_bins, labels=res_time_labels, right=False)"
   ]
  },
  {
   "cell_type": "code",
   "execution_count": 110,
   "id": "985f0e3d",
   "metadata": {},
   "outputs": [
    {
     "data": {
      "text/plain": [
       "['Ticket ID',\n",
       " 'Customer Name',\n",
       " 'Customer Email',\n",
       " 'Customer Age',\n",
       " 'Customer Gender',\n",
       " 'Product Purchased',\n",
       " 'Date of Purchase',\n",
       " 'Ticket Type',\n",
       " 'Ticket Subject',\n",
       " 'Ticket Description',\n",
       " 'Ticket Status',\n",
       " 'Resolution',\n",
       " 'Ticket Priority',\n",
       " 'Ticket Channel',\n",
       " 'First Response Time',\n",
       " 'Time to Resolution',\n",
       " 'Customer Satisfaction Rating',\n",
       " 'Complaint Date',\n",
       " 'Response Delay (hrs)',\n",
       " 'Resolution Delay (hrs)',\n",
       " 'Customer Age Group',\n",
       " 'Satisfaction Category',\n",
       " 'SLA Breached',\n",
       " 'SLA Breached - Response',\n",
       " 'SLA Breached - Resolution',\n",
       " 'Ticket Opened Day',\n",
       " 'Ticket Opened Month',\n",
       " 'Is Weekend',\n",
       " 'Resolution Time Category',\n",
       " 'Response Time Category']"
      ]
     },
     "execution_count": 110,
     "metadata": {},
     "output_type": "execute_result"
    }
   ],
   "source": [
    "# 6. Response Time Buckets\n",
    "resp_time_bins = [0, 4, 12, 24, 1e6]\n",
    "resp_time_labels = ['<4h', '4-12h', '12-24h', '>24h']\n",
    "df['Response Time Category'] = pd.cut(df['Response Delay (hrs)'], bins=resp_time_bins, labels=resp_time_labels, right=False)\n",
    "\n",
    "df.columns.tolist()  # show updated columns after feature engineering"
   ]
  },
  {
   "cell_type": "code",
   "execution_count": null,
   "id": "3b0076dd",
   "metadata": {},
   "outputs": [],
   "source": [
    "df.to_csv(\"customer_support_tickets_enriched_clean.csv\", index=False)"
   ]
  },
  {
   "cell_type": "code",
   "execution_count": 111,
   "id": "3fbafe22",
   "metadata": {},
   "outputs": [],
   "source": [
    "# df_response_subset = df[\n",
    "#     df['Response Delay (hrs)'].notnull() &\n",
    "#     (df['Response Delay (hrs)'] > 0) &\n",
    "#     (df['Response Delay (hrs)'] < 720)  # Keep only delays under 30 days\n",
    "# ].copy()"
   ]
  },
  {
   "cell_type": "code",
   "execution_count": 112,
   "id": "9a55bc93",
   "metadata": {},
   "outputs": [],
   "source": [
    "# df_resolution_subset = df[\n",
    "#     df['Resolution Delay (hrs)'].notnull() &\n",
    "#     (df['Resolution Delay (hrs)'] > 0) &\n",
    "#     (df['Resolution Delay (hrs)'] < 1440)  # Keep only under 60 days\n",
    "# ].copy()"
   ]
  },
  {
   "cell_type": "code",
   "execution_count": 113,
   "id": "5f6c6a88",
   "metadata": {},
   "outputs": [],
   "source": [
    "# df_satisfaction_subset = df[\n",
    "#     df['Customer Satisfaction Rating'].notnull()\n",
    "# ].copy()"
   ]
  },
  {
   "cell_type": "code",
   "execution_count": 114,
   "id": "296cf7c3",
   "metadata": {},
   "outputs": [],
   "source": [
    "# df_sla_subset = df[\n",
    "#     df['Resolution Delay (hrs)'].notnull() &\n",
    "#     (df['Resolution Delay (hrs)'] > 0)\n",
    "# ].copy()"
   ]
  },
  {
   "cell_type": "code",
   "execution_count": 116,
   "id": "eb4c6852",
   "metadata": {},
   "outputs": [],
   "source": [
    "# df_response_subset.to_csv(\"response_time_analysis.csv\", index=False)\n",
    "# df_resolution_subset.to_csv(\"resolution_time_analysis.csv\", index=False)\n",
    "# df_satisfaction_subset.to_csv(\"satisfaction_analysis.csv\", index=False)\n",
    "# df_sla_subset.to_csv(\"sla_analysis.csv\", index=False)"
   ]
  },
  {
   "cell_type": "code",
   "execution_count": null,
   "id": "05030171",
   "metadata": {},
   "outputs": [],
   "source": []
  }
 ],
 "metadata": {
  "kernelspec": {
   "display_name": "Python 3",
   "language": "python",
   "name": "python3"
  },
  "language_info": {
   "codemirror_mode": {
    "name": "ipython",
    "version": 3
   },
   "file_extension": ".py",
   "mimetype": "text/x-python",
   "name": "python",
   "nbconvert_exporter": "python",
   "pygments_lexer": "ipython3",
   "version": "3.8.8"
  }
 },
 "nbformat": 4,
 "nbformat_minor": 5
}
